{
 "cells": [
  {
   "cell_type": "code",
   "execution_count": 2,
   "metadata": {},
   "outputs": [],
   "source": [
    "import pathlib\n",
    "\n",
    "import pandas as pd"
   ]
  },
  {
   "cell_type": "code",
   "execution_count": 11,
   "metadata": {},
   "outputs": [],
   "source": [
    "novelty_path = \"../../results/metrics/novelty/rrf-only/novelty\"\n",
    "\n",
    "combined = []\n",
    "headers = [\"algorithm\", \"measure\", \"user_id\", \"score\"]\n",
    "for file_path in pathlib.Path(novelty_path).iterdir():\n",
    "    df = pd.read_csv(file_path, sep=\"\\t\")\n",
    "    combined.append(df)\n",
    "\n",
    "combined_df = pd.concat(combined, ignore_index=True)\n",
    "combined_df = combined_df.sort_values(by=headers)\n",
    "combined_df.to_csv(f\"{novelty_path}/../combined.txt\", sep=\"\\t\", index=False)"
   ]
  }
 ],
 "metadata": {
  "kernelspec": {
   "display_name": ".venv",
   "language": "python",
   "name": "python3"
  },
  "language_info": {
   "codemirror_mode": {
    "name": "ipython",
    "version": 3
   },
   "file_extension": ".py",
   "mimetype": "text/x-python",
   "name": "python",
   "nbconvert_exporter": "python",
   "pygments_lexer": "ipython3",
   "version": "3.11.0"
  }
 },
 "nbformat": 4,
 "nbformat_minor": 2
}
